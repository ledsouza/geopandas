{
  "cells": [
    {
      "cell_type": "markdown",
      "metadata": {
        "id": "wRLQJ-w4CgYl"
      },
      "source": [
        "# Aula 1"
      ]
    },
    {
      "cell_type": "markdown",
      "metadata": {
        "id": "e6crW9ELCk9n"
      },
      "source": [
        "## Vídeo 1.2 - Biblioteca e os dados"
      ]
    },
    {
      "cell_type": "markdown",
      "metadata": {
        "id": "Rcf5ynlKbUPR"
      },
      "source": [
        "GeoPandas é uma biblioteca de código aberto em Python que facilita a manipulação e análise de dados geoespaciais. Ela estende a funcionalidade da biblioteca pandas, amplamente usada para manipulação de dados, adicionando suporte para operações geoespaciais. Isso inclui a capacidade de ler e escrever diferentes formatos de arquivo geoespaciais (como Shapefiles, GeoJSON, etc.), realizar operações geoespaciais (como união espacial, interseção, etc.), e criar visualizações geoespaciais. A GeoPandas integra-se bem com outras bibliotecas Python amplamente utilizadas, como Matplotlib para visualização e NumPy para manipulação de dados numéricos. Ao proporcionar uma interface de alto nível e fácil de usar para operações geoespaciais complexas, a GeoPandas tornou-se uma ferramenta importante para geocientistas, urbanistas e outros que trabalham com dados geoespaciais."
      ]
    },
    {
      "cell_type": "code",
      "execution_count": null,
      "metadata": {
        "id": "sLpUAIUWCKfD"
      },
      "outputs": [],
      "source": [
        "!pip install geopandas"
      ]
    },
    {
      "cell_type": "code",
      "execution_count": null,
      "metadata": {
        "id": "mMdKcour_9ms"
      },
      "outputs": [],
      "source": [
        "import geopandas as gpd"
      ]
    },
    {
      "cell_type": "markdown",
      "metadata": {
        "id": "c585__WCFtdK"
      },
      "source": [
        "https://www.ibge.gov.br/geociencias/organizacao-do-territorio/malhas-territoriais/15774-malhas.html"
      ]
    },
    {
      "cell_type": "code",
      "execution_count": null,
      "metadata": {
        "id": "hhWZNHG3IOIV"
      },
      "outputs": [],
      "source": [
        "url = 'https://github.com/alura-cursos/curso_geopandas/raw/main/dados/RJ_Municipios_2022.shp'"
      ]
    },
    {
      "cell_type": "code",
      "execution_count": null,
      "metadata": {
        "id": "2XEtxSAWCTia"
      },
      "outputs": [],
      "source": [
        "rj = gpd.read_file(url)"
      ]
    },
    {
      "cell_type": "code",
      "execution_count": null,
      "metadata": {
        "id": "2YqqOr5GIeEy"
      },
      "outputs": [],
      "source": [
        "type(rj)"
      ]
    },
    {
      "cell_type": "code",
      "execution_count": null,
      "metadata": {
        "id": "95LhpdgiIQ32"
      },
      "outputs": [],
      "source": [
        "rj.head()"
      ]
    },
    {
      "cell_type": "code",
      "execution_count": null,
      "metadata": {
        "id": "8DcBkm66IVpy"
      },
      "outputs": [],
      "source": [
        "rj.plot()"
      ]
    },
    {
      "cell_type": "code",
      "execution_count": null,
      "metadata": {
        "id": "IZTDrJ9FIyc8"
      },
      "outputs": [],
      "source": [
        "rj.plot(color='white',edgecolor='black',figsize=(15,8))"
      ]
    },
    {
      "cell_type": "markdown",
      "metadata": {
        "id": "Az0TMh4yR_pP"
      },
      "source": [
        "## Vídeo 1.3 - Trabalhando com Shapefiles"
      ]
    },
    {
      "cell_type": "markdown",
      "metadata": {
        "id": "HmZqpAQYa906"
      },
      "source": [
        "Shapefiles são um formato de arquivo de dados geoespaciais desenvolvido pela Esri, uma das principais empresas de software de Sistemas de Informação Geográfica (SIG). Eles são amplamente utilizados para armazenar dados de localização geográfica e atributos associados a essa localização. Um shapefile na verdade consiste em um conjunto de arquivos correlacionados (.shp, .shx, .dbf, e potencialmente outros) que juntos expressam vetores geoespaciais - pontos, linhas ou polígonos - juntamente com informações atributivas, que podem incluir detalhes como nomes, categorias e outras características associadas a cada entidade geográfica. Shapefiles são comumente usados em uma variedade de campos, incluindo urbanismo, geografia, logística, e muitos outros que requerem a análise e a visualização de dados geoespaciais."
      ]
    },
    {
      "cell_type": "code",
      "execution_count": null,
      "metadata": {
        "id": "T5VUCkewLHA4"
      },
      "outputs": [],
      "source": [
        "rj.plot(color='white',edgecolor='black',figsize=(15,8))"
      ]
    },
    {
      "cell_type": "code",
      "execution_count": null,
      "metadata": {
        "id": "i99Yoaq9TflW"
      },
      "outputs": [],
      "source": [
        "rj = rj[rj['NM_MUN']=='Rio de Janeiro']"
      ]
    },
    {
      "cell_type": "code",
      "execution_count": null,
      "metadata": {
        "id": "l8OtqBqJT-pQ"
      },
      "outputs": [],
      "source": [
        "rj"
      ]
    },
    {
      "cell_type": "code",
      "execution_count": null,
      "metadata": {
        "id": "KA_1Ob4ZUEOs"
      },
      "outputs": [],
      "source": [
        "rj.plot(color='orange',edgecolor='black',figsize=(15,8))"
      ]
    },
    {
      "cell_type": "code",
      "execution_count": null,
      "metadata": {
        "id": "lxQCpScEUhcw"
      },
      "outputs": [],
      "source": [
        "rj.to_file('RJ-MUNIC.shp')"
      ]
    },
    {
      "cell_type": "code",
      "execution_count": null,
      "metadata": {
        "id": "kfkiGRu4VDkw"
      },
      "outputs": [],
      "source": [
        "rj_munic = gpd.read_file('RJ-MUNIC.shp')"
      ]
    },
    {
      "cell_type": "code",
      "execution_count": null,
      "metadata": {
        "id": "DNSsEavIVTRL"
      },
      "outputs": [],
      "source": [
        "rj_munic.plot(color='orange',edgecolor='black',figsize=(15,8))"
      ]
    }
  ],
  "metadata": {
    "colab": {
      "provenance": []
    },
    "kernelspec": {
      "display_name": "Python 3",
      "name": "python3"
    },
    "language_info": {
      "name": "python",
      "version": "3.9.18"
    }
  },
  "nbformat": 4,
  "nbformat_minor": 0
}
